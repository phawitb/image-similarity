{
 "cells": [
  {
   "cell_type": "code",
   "execution_count": 32,
   "id": "b93b757e",
   "metadata": {},
   "outputs": [],
   "source": [
    "# !pip install tensorflow-hub\n",
    "# !pip install tensorflow==2.1\n",
    "# !pip install keras==2.3.1"
   ]
  },
  {
   "cell_type": "code",
   "execution_count": 6,
   "id": "094824be",
   "metadata": {},
   "outputs": [],
   "source": [
    "import tensorflow as tf\n",
    "import tensorflow_hub as hub\n",
    "from PIL import Image\n",
    "import numpy as np\n",
    "from scipy.spatial import distance"
   ]
  },
  {
   "cell_type": "code",
   "execution_count": 1,
   "id": "207606c4",
   "metadata": {},
   "outputs": [],
   "source": [
    "def extract(file):\n",
    "    file = Image.open(file).convert('L').resize(IMAGE_SHAPE)\n",
    "    file = np.stack((file,)*3, axis=-1)\n",
    "    file = np.array(file)/255.0\n",
    "\n",
    "    embedding = model.predict(file[np.newaxis, ...])\n",
    "    vgg16_feature_np = np.array(embedding)\n",
    "    flattended_feature = vgg16_feature_np.flatten()\n",
    "\n",
    "    return flattended_feature"
   ]
  },
  {
   "cell_type": "code",
   "execution_count": 8,
   "id": "349d25f0",
   "metadata": {},
   "outputs": [],
   "source": [
    "model_url = \"https://tfhub.dev/tensorflow/efficientnet/lite0/feature-vector/2\"\n",
    "\n",
    "IMAGE_SHAPE = (224, 224)\n",
    "\n",
    "layer = hub.KerasLayer(model_url)\n",
    "model = tf.keras.Sequential([layer])"
   ]
  },
  {
   "cell_type": "code",
   "execution_count": 9,
   "id": "ee63fe28",
   "metadata": {},
   "outputs": [],
   "source": [
    "def find_similar(img_init,img_list):\n",
    "    img0 = extract('imgs/init.jpeg')\n",
    "    imgs = []\n",
    "    for i in img_list:\n",
    "        imgs.append(extract(i))\n",
    "        \n",
    "    metric = 'cosine'\n",
    "    \n",
    "    DC = []\n",
    "    for img in imgs:\n",
    "        dc = distance.cdist([img0], [img], metric)[0]\n",
    "        DC.append(dc)\n",
    "\n",
    "    index = DC.index(min(DC))\n",
    "    return img_list[index]\n"
   ]
  },
  {
   "cell_type": "code",
   "execution_count": 10,
   "id": "238545c9",
   "metadata": {},
   "outputs": [
    {
     "data": {
      "text/plain": [
       "'imgs/3.jpeg'"
      ]
     },
     "execution_count": 10,
     "metadata": {},
     "output_type": "execute_result"
    }
   ],
   "source": [
    "img_init = 'imgs/init.jpeg'\n",
    "img_list = ['imgs/2.jpeg','imgs/3.jpeg','imgs/4.jpeg']\n",
    "find_similar(img_init,img_list)"
   ]
  },
  {
   "cell_type": "code",
   "execution_count": null,
   "id": "32c84bc1",
   "metadata": {},
   "outputs": [],
   "source": []
  },
  {
   "cell_type": "code",
   "execution_count": null,
   "id": "c977009e",
   "metadata": {},
   "outputs": [],
   "source": []
  }
 ],
 "metadata": {
  "kernelspec": {
   "display_name": "python3.7",
   "language": "python",
   "name": "python3.7"
  },
  "language_info": {
   "codemirror_mode": {
    "name": "ipython",
    "version": 3
   },
   "file_extension": ".py",
   "mimetype": "text/x-python",
   "name": "python",
   "nbconvert_exporter": "python",
   "pygments_lexer": "ipython3",
   "version": "3.7.13"
  }
 },
 "nbformat": 4,
 "nbformat_minor": 5
}
